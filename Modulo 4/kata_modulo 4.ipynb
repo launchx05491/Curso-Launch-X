{
 "cells": [
  {
   "cell_type": "code",
   "execution_count": 3,
   "metadata": {},
   "outputs": [
    {
     "name": "stdout",
     "output_type": "stream",
     "text": [
      "Palabra = The Moon is Earth's only satellite\n",
      "Palabra = There are several interesting facts about the Moon and how it affects life here on Earth\n",
      "Palabra = On average, the Moon moves 4cm away from the Earth every year\n",
      "Palabra = This yearly drift is not significant enough to cause immediate effects on Earth\n",
      "Palabra = The highest daylight temperature of the Moon is 127 C.\n"
     ]
    }
   ],
   "source": [
    "text = \"\"\"Interesting facts about the Moon. The Moon is Earth's only satellite. There are several interesting facts about the Moon and how it affects life here on Earth. On average, the Moon moves 4cm away from the Earth every year. This yearly drift is not significant enough to cause immediate effects on Earth. The highest daylight temperature of the Moon is 127 C.\"\"\"\n",
    "\n",
    "# Divide el texto\n",
    "texto_array = text.split('. ')\n",
    "texto_array\n",
    "\n",
    "# Palabras clave\n",
    "palabras_clave = [\"satellite\", \"interesting\", \"immediate\", \"Earth\", \"temperature\"]\n",
    "# Ciclo for para recorrer la cadena\n",
    "for palabra in texto_array:\n",
    "    for palabra_for in palabras_clave:\n",
    "        if palabra_for in palabra:\n",
    "            print('Texto = ' + palabra)\n",
    "            break"
   ]
  }
 ],
 "metadata": {
  "interpreter": {
   "hash": "5e23b947e60e4b74ceea6f454e64fd49d9a7adfd8532183f0fa03a42b2c268e9"
  },
  "kernelspec": {
   "display_name": "Python 3.10.2 64-bit (windows store)",
   "language": "python",
   "name": "python3"
  },
  "language_info": {
   "codemirror_mode": {
    "name": "ipython",
    "version": 3
   },
   "file_extension": ".py",
   "mimetype": "text/x-python",
   "name": "python",
   "nbconvert_exporter": "python",
   "pygments_lexer": "ipython3",
   "version": "3.10.2"
  },
  "orig_nbformat": 4
 },
 "nbformat": 4,
 "nbformat_minor": 2
}
